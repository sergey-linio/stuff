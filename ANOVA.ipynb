{
 "cells": [
  {
   "cell_type": "markdown",
   "metadata": {},
   "source": [
    "### ANOVA for splits"
   ]
  },
  {
   "cell_type": "code",
   "execution_count": 4,
   "metadata": {
    "collapsed": false
   },
   "outputs": [
    {
     "name": "stdout",
     "output_type": "stream",
     "text": [
      "Populating the interactive namespace from numpy and matplotlib\n"
     ]
    }
   ],
   "source": [
    "from db_conn import *\n",
    "import pandas as pd\n",
    "import numpy as np\n",
    "import matplotlib.pyplot as plt\n",
    "%pylab inline"
   ]
  },
  {
   "cell_type": "code",
   "execution_count": 8,
   "metadata": {
    "collapsed": true
   },
   "outputs": [],
   "source": [
    "#Sergey's output options\n",
    "pd.set_option('display.max_rows', 10)\n",
    "pd.set_option('precision', 3)\n",
    "pd.set_option('expand_frame_repr', False)"
   ]
  },
  {
   "cell_type": "code",
   "execution_count": 5,
   "metadata": {
    "collapsed": true
   },
   "outputs": [],
   "source": [
    "split_lamoda_mobile_query = \"\"\"SELECT \n",
    "splits['split_lamoda_mobile'] as split_value,dt,\n",
    "sum(size(orders))/count(distinct session_id) as CR,\n",
    "sum(size(orders)) as orders,\n",
    "count(distinct session_id) as visits\n",
    "\n",
    "FROM session_aggregate_new\n",
    "WHERE dt between {begin_date} and {end_date} \n",
    "AND domain = 'www.lamoda.ru' AND is_office = 0 \n",
    "AND depth>0\n",
    "\n",
    "GROUP BY splits['split_lamoda_mobile'],dt\"\"\"\n",
    "\n",
    "split_lamoda_ranking_query = \"\"\"SELECT \n",
    "splits['split_lamoda_ranking'] as split_value,dt,\n",
    "sum(size(orders))/count(distinct session_id) as CR,\n",
    "sum(size(orders)) as orders,\n",
    "count(distinct session_id) as visits\n",
    "\n",
    "FROM session_aggregate_new\n",
    "WHERE dt between {begin_date} and {end_date} \n",
    "AND domain = 'www.lamoda.ru' AND is_office = 0 \n",
    "AND depth>0\n",
    "\n",
    "GROUP BY splits['split_lamoda_ranking'],dt\"\"\""
   ]
  },
  {
   "cell_type": "code",
   "execution_count": 6,
   "metadata": {
    "collapsed": false
   },
   "outputs": [
    {
     "name": "stdout",
     "output_type": "stream",
     "text": [
      "Connected to Hadoop db.\n"
     ]
    }
   ],
   "source": [
    "#get_cursor\n",
    "hive_cursor = conn_hd()"
   ]
  },
  {
   "cell_type": "code",
   "execution_count": 7,
   "metadata": {
    "collapsed": false
   },
   "outputs": [
    {
     "name": "stdout",
     "output_type": "stream",
     "text": [
      "CPU times: user 56 ms, sys: 8 ms, total: 64 ms\n",
      "Wall time: 6min 49s\n",
      "mobile ready\n",
      "CPU times: user 116 ms, sys: 4 ms, total: 120 ms\n",
      "Wall time: 1min 55s\n"
     ]
    }
   ],
   "source": [
    "#execute_query\n",
    "%time split_modile_df = data_hd(hive_cursor,split_lamoda_mobile_query.format(begin_date = '20150601',end_date = '20150630'))\n",
    "print 'mobile ready'\n",
    "%time split_ranking_df = data_hd(hive_cursor,split_lamoda_ranking_query.format(begin_date = '20150601',end_date = '20150630'))"
   ]
  },
  {
   "cell_type": "code",
   "execution_count": 13,
   "metadata": {
    "collapsed": false
   },
   "outputs": [],
   "source": [
    "import scipy.stats as st"
   ]
  },
  {
   "cell_type": "code",
   "execution_count": 37,
   "metadata": {
    "collapsed": false
   },
   "outputs": [],
   "source": [
    "split_ranking_df.to_excel('splits.xlsx')"
   ]
  },
  {
   "cell_type": "code",
   "execution_count": 20,
   "metadata": {
    "collapsed": false
   },
   "outputs": [
    {
     "data": {
      "text/plain": [
       "30"
      ]
     },
     "execution_count": 20,
     "metadata": {},
     "output_type": "execute_result"
    }
   ],
   "source": [
    "split_ranking_df[split_ranking_df.split_value == 1].cr"
   ]
  },
  {
   "cell_type": "code",
   "execution_count": 28,
   "metadata": {
    "collapsed": false,
    "scrolled": true
   },
   "outputs": [
    {
     "data": {
      "text/plain": [
       "F_onewayResult(statistic=0.15515076620080881, pvalue=0.99998968900563789)"
      ]
     },
     "execution_count": 28,
     "metadata": {},
     "output_type": "execute_result"
    }
   ],
   "source": [
    "st.f_oneway(*[split_ranking_df[split_ranking_df.split_value == i].orders for i in range(1,21)])"
   ]
  },
  {
   "cell_type": "code",
   "execution_count": 29,
   "metadata": {
    "collapsed": false
   },
   "outputs": [
    {
     "data": {
      "text/plain": [
       "F_onewayResult(statistic=0.0029514023007054298, pvalue=0.99999999999999989)"
      ]
     },
     "execution_count": 29,
     "metadata": {},
     "output_type": "execute_result"
    }
   ],
   "source": [
    "st.f_oneway(*[split_ranking_df[split_ranking_df.split_value == i].visits for i in range(1,21)])"
   ]
  },
  {
   "cell_type": "code",
   "execution_count": 30,
   "metadata": {
    "collapsed": false
   },
   "outputs": [
    {
     "data": {
      "text/plain": [
       "F_onewayResult(statistic=0.29134641254140342, pvalue=0.99873427603993326)"
      ]
     },
     "execution_count": 30,
     "metadata": {},
     "output_type": "execute_result"
    }
   ],
   "source": [
    "st.f_oneway(*[split_ranking_df[split_ranking_df.split_value == i].cr for i in range(1,21)])"
   ]
  },
  {
   "cell_type": "code",
   "execution_count": 31,
   "metadata": {
    "collapsed": false
   },
   "outputs": [
    {
     "data": {
      "text/plain": [
       "F_onewayResult(statistic=0.030505875123252799, pvalue=0.99819012942727303)"
      ]
     },
     "execution_count": 31,
     "metadata": {},
     "output_type": "execute_result"
    }
   ],
   "source": [
    "st.f_oneway(*[split_modile_df[split_modile_df.split_value == i].orders for i in range(1,6)])"
   ]
  },
  {
   "cell_type": "code",
   "execution_count": 32,
   "metadata": {
    "collapsed": false
   },
   "outputs": [
    {
     "data": {
      "text/plain": [
       "F_onewayResult(statistic=0.0016988330362581235, pvalue=0.99999416192020751)"
      ]
     },
     "execution_count": 32,
     "metadata": {},
     "output_type": "execute_result"
    }
   ],
   "source": [
    "st.f_oneway(*[split_modile_df[split_modile_df.split_value == i].visits for i in range(1,6)])"
   ]
  },
  {
   "cell_type": "code",
   "execution_count": 33,
   "metadata": {
    "collapsed": false
   },
   "outputs": [
    {
     "data": {
      "text/plain": [
       "F_onewayResult(statistic=0.076088081239541319, pvalue=0.98941552017324019)"
      ]
     },
     "execution_count": 33,
     "metadata": {},
     "output_type": "execute_result"
    }
   ],
   "source": [
    "st.f_oneway(*[split_modile_df[split_modile_df.split_value == i].cr for i in range(1,6)])"
   ]
  },
  {
   "cell_type": "code",
   "execution_count": 34,
   "metadata": {
    "collapsed": false
   },
   "outputs": [
    {
     "data": {
      "text/plain": [
       "F_onewayResult(statistic=0.0016988330362581235, pvalue=0.99999416192020751)"
      ]
     },
     "execution_count": 34,
     "metadata": {},
     "output_type": "execute_result"
    }
   ],
   "source": [
    "#check corrctnes of list comprehansion\n",
    "st.f_oneway(split_modile_df[split_modile_df.split_value == 1].visits,split_modile_df[split_modile_df.split_value == 2].visits,\\\n",
    "           split_modile_df[split_modile_df.split_value == 3].visits,split_modile_df[split_modile_df.split_value == 4].visits,\\\n",
    "           split_modile_df[split_modile_df.split_value == 5].visits)"
   ]
  },
  {
   "cell_type": "code",
   "execution_count": 35,
   "metadata": {
    "collapsed": false
   },
   "outputs": [
    {
     "data": {
      "text/plain": [
       "[0.018438985148329635,\n",
       " 0.018183601380664237,\n",
       " 0.01847882366889192,\n",
       " 0.01858259119359518,\n",
       " 0.01796463063646087,\n",
       " 0.01825868404336788,\n",
       " 0.017888342544261974,\n",
       " 0.018151521969573627,\n",
       " 0.018076139829457816,\n",
       " 0.01822333377535806,\n",
       " 0.01841225923755131,\n",
       " 0.018063034268447593,\n",
       " 0.018747875009470567,\n",
       " 0.018503869841162885,\n",
       " 0.018415938227829925,\n",
       " 0.018042530681365562,\n",
       " 0.01902906960275966,\n",
       " 0.01818427439981813,\n",
       " 0.017972183062502846,\n",
       " 0.01820517994500793]"
      ]
     },
     "execution_count": 35,
     "metadata": {},
     "output_type": "execute_result"
    }
   ],
   "source": [
    "[mean(split_ranking_df[split_ranking_df.split_value == i].cr) for i in range(1,21)]"
   ]
  }
 ],
 "metadata": {
  "kernelspec": {
   "display_name": "Python 2",
   "language": "python",
   "name": "python2"
  },
  "language_info": {
   "codemirror_mode": {
    "name": "ipython",
    "version": 2
   },
   "file_extension": ".py",
   "mimetype": "text/x-python",
   "name": "python",
   "nbconvert_exporter": "python",
   "pygments_lexer": "ipython2",
   "version": "2.7.10"
  }
 },
 "nbformat": 4,
 "nbformat_minor": 0
}
