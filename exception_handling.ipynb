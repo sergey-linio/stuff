{
 "cells": [
  {
   "cell_type": "markdown",
   "metadata": {},
   "source": [
    "## Debug functions"
   ]
  },
  {
   "cell_type": "code",
   "execution_count": 1,
   "metadata": {
    "collapsed": true
   },
   "outputs": [],
   "source": [
    "#helper functions\n",
    "\n",
    "#  Put set_trace() anywhere in your code that you want to stop and take a look around\n",
    "def set_trace():\n",
    "    from sys import _getframe\n",
    "    from IPython.core.debugger import Pdb\n",
    "    Pdb(color_scheme='Linux').set_trace(_getframe().f_back)\n",
    "\n",
    "#The debug function above enables you to invoke the interactive debugger easily on an\n",
    "#arbitrary function call. For example debug(hello)\n",
    "def debug(f, *args, **kwargs):\n",
    "    from IPython.core.debugger import Pdb\n",
    "    pdb = Pdb(color_scheme='Linux')\n",
    "    return pdb.runcall(f, *args, **kwargs)"
   ]
  },
  {
   "cell_type": "markdown",
   "metadata": {},
   "source": [
    "## Different types of excetp and finally positions"
   ]
  },
  {
   "cell_type": "code",
   "execution_count": null,
   "metadata": {
    "collapsed": false
   },
   "outputs": [],
   "source": [
    "# for loop continues, despite of errors, KeyError won't be assigned to d_new\n",
    "def flow_test():\n",
    "    d_old = {0:0,1:1,2:2,4:4,5:5,6:6}\n",
    "    d_new = {}\n",
    "    #l1 = list(range(10))\n",
    "    for i in range(11):\n",
    "        try:\n",
    "            d_new[i] = d_old[i]\n",
    "        except KeyError, Argument:\n",
    "            print 'Index out of bound', Argument\n",
    "    print d_new"
   ]
  },
  {
   "cell_type": "code",
   "execution_count": null,
   "metadata": {
    "collapsed": true
   },
   "outputs": [],
   "source": [
    "# for loop continues, despite of errors, KeyError will be assigned to d_new\n",
    "def flow_test():\n",
    "    d_old = {0:0,1:1,2:2,4:4,5:5,6:6}\n",
    "    d_new = {}\n",
    "    #l1 = list(range(10))\n",
    "    for i in range(11):\n",
    "        try:\n",
    "            d_new[i] = d_old[i]\n",
    "        except KeyError, Argument:\n",
    "            d_new[i] = -1\n",
    "            print 'Index out of bound', Argument\n",
    "    print d_new"
   ]
  },
  {
   "cell_type": "code",
   "execution_count": null,
   "metadata": {
    "collapsed": true
   },
   "outputs": [],
   "source": [
    "#return on first exception in for loop\n",
    "def flow_test():\n",
    "    d_old = {0:0,1:1,2:2,4:4,5:5,6:6}\n",
    "    d_new = {}\n",
    "    #l1 = list(range(10))\n",
    "    for i in range(11):\n",
    "        try:\n",
    "            d_new[i] = d_old[i]\n",
    "        except KeyError, Argument:\n",
    "            d_new[i] = -1\n",
    "            print 'Index out of bound', Argument\n",
    "            return 0\n",
    "    print d_new"
   ]
  },
  {
   "cell_type": "code",
   "execution_count": null,
   "metadata": {
    "collapsed": false
   },
   "outputs": [],
   "source": [
    "#for loop continues, despite of errors, finally will be executed anyway\n",
    "def flow_test():\n",
    "    d_old = {0:0,1:1,2:2,4:4,5:5,6:6}\n",
    "    d_new = {}\n",
    "    #l1 = list(range(10))\n",
    "    try:\n",
    "        for i in range(11):\n",
    "            try:\n",
    "                d_new[i] = d_old[i]\n",
    "            except KeyError, Argument:\n",
    "                d_new[i] = -1\n",
    "                print 'Index out of bound', Argument\n",
    "    finally:\n",
    "        print 'Index out of bound 2', Argument\n",
    "    print d_new"
   ]
  },
  {
   "cell_type": "code",
   "execution_count": 2,
   "metadata": {
    "collapsed": false
   },
   "outputs": [],
   "source": [
    "#finally re raise the exception on the first error\n",
    "def flow_test():\n",
    "    d_old = {0:0,1:1,2:2,4:4,5:5,6:6}\n",
    "    d_new = {}\n",
    "    #l1 = list(range(10))\n",
    "    try:\n",
    "        for i in range(11):\n",
    "            try:\n",
    "                d_new[i] = d_old[i]\n",
    "            finally:\n",
    "                d_new[i] = -1\n",
    "                print 'Index out of bound'\n",
    "    except KeyError, Argument:\n",
    "        print 'Index out of bound 2', Argument\n",
    "    print d_new"
   ]
  },
  {
   "cell_type": "code",
   "execution_count": null,
   "metadata": {
    "collapsed": true
   },
   "outputs": [],
   "source": [
    "#stop looping on first exception\n",
    "def flow_test():\n",
    "    d_old = {0:0,1:1,2:2,4:4,5:5,6:6}\n",
    "    d_new = {}\n",
    "    #l1 = list(range(10))\n",
    "    try:\n",
    "        for i in range(11):\n",
    "            d_new[i] = d_old[i]\n",
    "    except KeyError, Argument:\n",
    "        print 'Index out of bound 2', Argument\n",
    "    print d_new"
   ]
  },
  {
   "cell_type": "markdown",
   "metadata": {},
   "source": [
    "## Summary"
   ]
  },
  {
   "cell_type": "markdown",
   "metadata": {},
   "source": [
    "By **indentation** you can control the try except scope  \n",
    "**finally** statement executes anyway and re raise the exception one level up  \n",
    "**except** doesn't raise the exception"
   ]
  }
 ],
 "metadata": {
  "kernelspec": {
   "display_name": "Python 2",
   "language": "python",
   "name": "python2"
  },
  "language_info": {
   "codemirror_mode": {
    "name": "ipython",
    "version": 2
   },
   "file_extension": ".py",
   "mimetype": "text/x-python",
   "name": "python",
   "nbconvert_exporter": "python",
   "pygments_lexer": "ipython2",
   "version": "2.7.11"
  }
 },
 "nbformat": 4,
 "nbformat_minor": 0
}
