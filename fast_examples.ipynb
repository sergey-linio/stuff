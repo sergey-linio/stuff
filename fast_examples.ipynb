{
 "cells": [
  {
   "cell_type": "markdown",
   "metadata": {},
   "source": [
    "## Remote connection info"
   ]
  },
  {
   "cell_type": "code",
   "execution_count": null,
   "metadata": {
    "collapsed": false
   },
   "outputs": [],
   "source": [
    "# kernel connection info for remote development\n",
    "# https://github.com/ipython/ipython/wiki/Cookbook:-Connecting-to-a-remote-kernel-via-ssh\n",
    "\n",
    "%connect_info"
   ]
  },
  {
   "cell_type": "code",
   "execution_count": null,
   "metadata": {
    "collapsed": false
   },
   "outputs": [],
   "source": [
    "# print working directory\n",
    "%pwd"
   ]
  },
  {
   "cell_type": "markdown",
   "metadata": {},
   "source": [
    "## Install libraries"
   ]
  },
  {
   "cell_type": "code",
   "execution_count": null,
   "metadata": {
    "collapsed": true
   },
   "outputs": [],
   "source": [
    "# install libraries\n",
    "!pip install <library_name>"
   ]
  },
  {
   "cell_type": "markdown",
   "metadata": {},
   "source": [
    "## Persistence (store) magic"
   ]
  },
  {
   "cell_type": "code",
   "execution_count": null,
   "metadata": {
    "collapsed": false
   },
   "outputs": [],
   "source": [
    "# persistence for variables\n",
    "# https://ipython.org/ipython-doc/2/config/extensions/storemagic.html\n",
    "\n",
    "%store # - Show list of all variables and their current values\n",
    "\n",
    "%store spam # - Store the current value of the variable spam to disk\n",
    "\n",
    "%store -d spam #- Remove the variable and its value from storage\n",
    "\n",
    "%store -z #- Remove all variables from storage\n",
    "\n",
    "%store -r #- Refresh all variables from store (overwrite current vals)\n",
    "\n",
    "%store -r spam bar #- Refresh specified variables from store (delete current val)\n",
    "\n",
    "%store foo >a.txt #- Store value of foo to new file a.txt\n",
    "\n",
    "%store foo >>a.txt #- Append value of foo to file a.txt"
   ]
  },
  {
   "cell_type": "markdown",
   "metadata": {},
   "source": [
    "## Autoreload"
   ]
  },
  {
   "cell_type": "code",
   "execution_count": 1,
   "metadata": {
    "collapsed": false
   },
   "outputs": [],
   "source": [
    "# autoreload for selected modules\n",
    "# https://ipython.org/ipython-doc/3/config/extensions/autoreload.html\n",
    "\n",
    "#to reload selected modules\n",
    "%load_ext autoreload\n",
    "%autoreload 1 #\n",
    "\n",
    "#instead of import mymodule use\n",
    "%aimport mymodule\n",
    "\n",
    "#but it doesn't work as expected"
   ]
  },
  {
   "cell_type": "code",
   "execution_count": null,
   "metadata": {
    "collapsed": true
   },
   "outputs": [],
   "source": [
    "#to reload all modules\n",
    "%load_ext autoreload\n",
    "%autoreload 2\n",
    "\n",
    "#but it doesn't work as expected"
   ]
  },
  {
   "cell_type": "markdown",
   "metadata": {},
   "source": [
    "## Debugging in Ipython"
   ]
  },
  {
   "cell_type": "code",
   "execution_count": 14,
   "metadata": {
    "collapsed": true
   },
   "outputs": [],
   "source": [
    "#function that we will debug\n",
    "def hello():\n",
    "    \"\"\"Print \"Hello World\" and return None\"\"\"\n",
    "    i = 35\n",
    "    err_list = [1,2]\n",
    "    #set_trace() #uncomment it to test set_trace\n",
    "    print err_list[4] #error here\n",
    "    print(\"Hello World\")"
   ]
  },
  {
   "cell_type": "code",
   "execution_count": 9,
   "metadata": {
    "collapsed": true
   },
   "outputs": [],
   "source": [
    "#helper functions\n",
    "\n",
    "#  Put set_trace() anywhere in your code that you want to stop and take a look around\n",
    "def set_trace():\n",
    "    from sys import _getframe\n",
    "    from IPython.core.debugger import Pdb\n",
    "    Pdb(color_scheme='Linux').set_trace(_getframe().f_back)\n",
    "\n",
    "#The debug function above enables you to invoke the interactive debugger easily on an\n",
    "#arbitrary function call. For example debug(hello)\n",
    "def debug(f, *args, **kwargs):\n",
    "    from IPython.core.debugger import Pdb\n",
    "    pdb = Pdb(color_scheme='Linux')\n",
    "    return pdb.runcall(f, *args, **kwargs)"
   ]
  },
  {
   "cell_type": "markdown",
   "metadata": {},
   "source": [
    "### Command Action in debugger\n",
    "**h(elp)** Display command list  \n",
    "help command Show documentation for command  \n",
    "**c**(ontinue) Resume program execution  \n",
    "**q**(uit) Exit debugger without executing any more code  \n",
    "**b**(reak) number Set breakpoint at number in current file  \n",
    "**b** path/to/file.py:number Set breakpoint at line number in specified file  \n",
    "**s**(tep) Step into function call  \n",
    "**n**(ext) Execute current line and advance to next line at current level  \n",
    "**u**(p) / d(own) Move up/down in function call stack  \n",
    "**a**(rgs) Show arguments for current function  \n",
    "**debug** statement Invoke statement statement in new (recursive) debugger  \n",
    "**l**(ist) statement Show current position and context at current level of stack  \n",
    "**w**(here) Print full stack trace with context at current position  "
   ]
  },
  {
   "cell_type": "code",
   "execution_count": null,
   "metadata": {
    "collapsed": false
   },
   "outputs": [],
   "source": [
    "# play with Pdb\n",
    "debug(hello)"
   ]
  },
  {
   "cell_type": "code",
   "execution_count": null,
   "metadata": {
    "collapsed": false
   },
   "outputs": [],
   "source": [
    "#calling %debug invokes the debugger with last error\n",
    "%debug"
   ]
  },
  {
   "cell_type": "markdown",
   "metadata": {},
   "source": [
    "## Timing in Ipython"
   ]
  },
  {
   "cell_type": "code",
   "execution_count": null,
   "metadata": {
    "collapsed": true
   },
   "outputs": [],
   "source": [
    "%time\n",
    "%timeit -n10 #average for 10 runs"
   ]
  },
  {
   "cell_type": "code",
   "execution_count": 21,
   "metadata": {
    "collapsed": true
   },
   "outputs": [],
   "source": [
    "# a very large list of strings\n",
    "strings = ['foo', 'foobar', 'baz', 'qux',\n",
    "           'python', 'Guido Van Rossum'] * 1000"
   ]
  },
  {
   "cell_type": "code",
   "execution_count": 20,
   "metadata": {
    "collapsed": false
   },
   "outputs": [
    {
     "name": "stdout",
     "output_type": "stream",
     "text": [
      "CPU times: user 28 ms, sys: 4 ms, total: 32 ms\n",
      "Wall time: 22.9 ms\n"
     ]
    }
   ],
   "source": [
    "%time method1 = [x for x in strings if x.startswith('foo')]"
   ]
  },
  {
   "cell_type": "code",
   "execution_count": 27,
   "metadata": {
    "collapsed": false
   },
   "outputs": [
    {
     "name": "stdout",
     "output_type": "stream",
     "text": [
      "10 loops, best of 3: 632 µs per loop\n"
     ]
    }
   ],
   "source": [
    "%timeit -n10 method2 = [x for x in strings if x[:3] == 'foo']"
   ]
  },
  {
   "cell_type": "markdown",
   "metadata": {},
   "source": [
    "## Profiling in Ipython"
   ]
  },
  {
   "cell_type": "code",
   "execution_count": 28,
   "metadata": {
    "collapsed": true
   },
   "outputs": [],
   "source": [
    "from numpy.random import randn\n",
    "\n",
    "#function that we will profile\n",
    "def add_and_sum(x, y):\n",
    "    added = x + y\n",
    "    summed = added.sum(axis=1)\n",
    "    return summed"
   ]
  },
  {
   "cell_type": "code",
   "execution_count": 29,
   "metadata": {
    "collapsed": true
   },
   "outputs": [],
   "source": [
    "x = randn(3000, 3000)\n",
    "y = randn(3000, 3000)"
   ]
  },
  {
   "cell_type": "code",
   "execution_count": 37,
   "metadata": {
    "collapsed": false
   },
   "outputs": [
    {
     "name": "stdout",
     "output_type": "stream",
     "text": [
      " "
     ]
    }
   ],
   "source": [
    "# for macro profiling\n",
    "\n",
    "%prun add_and_sum(x, y)"
   ]
  },
  {
   "cell_type": "code",
   "execution_count": 39,
   "metadata": {
    "collapsed": false
   },
   "outputs": [],
   "source": [
    "# for micro profiling (line by line)\n",
    "# to install it: https://github.com/rkern/line_profiler\n",
    "# http://nbviewer.ipython.org/gist/jiffyclub/3062428\n",
    "\n",
    "#%load_ext line_profiler #uncomment this line first time, line profiler is extension, so you need to load it\n",
    "\n",
    "#%lprun -f func_name func_call, where func_name is function name, and func_call is ordinary call of this function\n",
    "%lprun -f add_and_sum add_and_sum(x, y)"
   ]
  },
  {
   "cell_type": "code",
   "execution_count": null,
   "metadata": {
    "collapsed": true
   },
   "outputs": [],
   "source": []
  }
 ],
 "metadata": {
  "kernelspec": {
   "display_name": "Python 2",
   "language": "python",
   "name": "python2"
  },
  "language_info": {
   "codemirror_mode": {
    "name": "ipython",
    "version": 2
   },
   "file_extension": ".py",
   "mimetype": "text/x-python",
   "name": "python",
   "nbconvert_exporter": "python",
   "pygments_lexer": "ipython2",
   "version": "2.7.11"
  }
 },
 "nbformat": 4,
 "nbformat_minor": 0
}
